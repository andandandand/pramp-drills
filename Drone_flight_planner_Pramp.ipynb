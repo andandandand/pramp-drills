{
  "nbformat": 4,
  "nbformat_minor": 0,
  "metadata": {
    "colab": {
      "name": "Drone flight planner - Pramp.ipynb",
      "version": "0.3.2",
      "provenance": [],
      "include_colab_link": true
    },
    "kernelspec": {
      "name": "python3",
      "display_name": "Python 3"
    }
  },
  "cells": [
    {
      "cell_type": "markdown",
      "metadata": {
        "id": "view-in-github",
        "colab_type": "text"
      },
      "source": [
        "<a href=\"https://colab.research.google.com/github/andandandand/pramp-drills/blob/master/Drone_flight_planner_Pramp.ipynb\" target=\"_parent\"><img src=\"https://colab.research.google.com/assets/colab-badge.svg\" alt=\"Open In Colab\"/></a>"
      ]
    },
    {
      "metadata": {
        "id": "8rZI7n1h9Sc2",
        "colab_type": "code",
        "colab": {}
      },
      "cell_type": "code",
      "source": [
        "!pip install ipdb"
      ],
      "execution_count": 0,
      "outputs": []
    },
    {
      "metadata": {
        "id": "XJnxOxc8KJfs",
        "colab_type": "text"
      },
      "cell_type": "markdown",
      "source": [
        "https://www.pramp.com/challenge/BrLMj8M2dVUoY95A9x3X"
      ]
    },
    {
      "metadata": {
        "id": "h366gHmp6oMB",
        "colab_type": "code",
        "colab": {
          "base_uri": "https://localhost:8080/",
          "height": 34
        },
        "outputId": "324871d1-3d15-4132-a13c-015a66beccfe"
      },
      "cell_type": "code",
      "source": [
        "import numpy as np\n",
        "\n",
        "def calc_drone_min_energy(route):\n",
        "  np.array(route)\n",
        "  vertical_movement = route[:, 2]\n",
        "  \n",
        "  fuel = 0 \n",
        "  fuel_change = 0\n",
        "  needed_fuel = []\n",
        "  \n",
        "  for i, v in enumerate(vertical_movement):\n",
        "    if i + 1 < len(vertical_movement):\n",
        "      current_height = v\n",
        "      next_height = vertical_movement[i+1]\n",
        "      \n",
        "      fuel_change = current_height - next_height\n",
        "      \n",
        "      fuel += fuel_change\n",
        "      \n",
        "      if fuel < 0:\n",
        "        needed_fuel.append(fuel)\n",
        "        fuel += abs(fuel)\n",
        "        \n",
        "  return abs(min(needed_fuel))\n",
        "\n"
      ],
      "execution_count": 17,
      "outputs": [
        {
          "output_type": "execute_result",
          "data": {
            "text/plain": [
              "5"
            ]
          },
          "metadata": {
            "tags": []
          },
          "execution_count": 17
        }
      ]
    },
    {
      "metadata": {
        "id": "eTwBhrJ0Kqi_",
        "colab_type": "code",
        "colab": {
          "base_uri": "https://localhost:8080/",
          "height": 34
        },
        "outputId": "98690285-39f0-4d46-d73c-698b732afa55"
      },
      "cell_type": "code",
      "source": [
        "route = np.array([[0,   2, 10],\n",
        "                  [3,   5,  0],\n",
        "                  [9,  20,  6],\n",
        "                  [10, 12, 15],\n",
        "                  [10, 10,  8]])\n",
        "\n",
        "calc_drone_min_energy(route)"
      ],
      "execution_count": 18,
      "outputs": [
        {
          "output_type": "execute_result",
          "data": {
            "text/plain": [
              "5"
            ]
          },
          "metadata": {
            "tags": []
          },
          "execution_count": 18
        }
      ]
    }
  ]
}